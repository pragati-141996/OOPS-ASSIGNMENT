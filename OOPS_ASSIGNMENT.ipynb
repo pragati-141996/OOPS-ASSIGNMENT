{
  "nbformat": 4,
  "nbformat_minor": 0,
  "metadata": {
    "colab": {
      "provenance": []
    },
    "kernelspec": {
      "name": "python3",
      "display_name": "Python 3"
    },
    "language_info": {
      "name": "python"
    }
  },
  "cells": [
    {
      "cell_type": "markdown",
      "source": [
        "#PYTHON OOPS QUESTIONS"
      ],
      "metadata": {
        "id": "CEops7Bd6RAl"
      }
    },
    {
      "cell_type": "markdown",
      "source": [
        "1. What is Object-Oriented Programming (OOP) ?\n",
        "\n",
        "-  Object-Oriented Programming (OOP) is a programming style where we structure our code around objects instead of just functions and logic.An object is like a mini program. It bundles two things together:\n",
        "Data (called attributes or properties)\n",
        "Behavior (called methods or functions).\n",
        "\n",
        "\n",
        "2. What is a class in OOP ?\n",
        "\n",
        "-  In Object-Oriented Programming (OOP), a class is like a blueprint or template for creating objects.It defines:\n",
        "What data the objects will have (called attributes or fields)\n",
        "What actions the objects can perform (called methods or functions).\n",
        "\n",
        "\n",
        "3. What is an object in OOP ?\n",
        "\n",
        "-  In Object-Oriented Programming (OOP), an object is a real-world entity created from a class.Each object has:\n",
        "\n",
        "   Attributes (data) → like color, size, brand, etc.\n",
        "\n",
        "   Methods (functions) → like drive(), stop(), start(), etc.\n",
        "\n",
        "\n",
        "4.  What is the difference between abstraction and encapsulation ?\n",
        "\n",
        "-   **ABSTRACTION** : Hiding the complex details and showing only the essential features.Focus on what an object does, not how it does it.It is done by abstract classes, interfaces (in Java/C++), or hiding unnecessary methods.Main benefit is simplicity for the user.**Eg**:We use TV remote without knowing how it works inside.\n",
        "-   **ENCAPSULATION** : Hiding the data inside a class, only allowing controlled access.Protect the data and prevent direct access/modification from outside.It is done by private variables with public getter/setter methods.Main benefit is security and control over data.**Eg**:The remote’s internal circuit is hidden; we can only press the buttons given.\n",
        "\n",
        "\n",
        "5. What are dunder methods in Python ?\n",
        "\n",
        "-  Dunder methods in Python are special methods that have double underscores at the beginning and end of their names.They let us customize how our objects behave with built-in Python functions and operators.**Eg**:\n",
        "\n",
        "   __init__ → runs when we create a new object (the constructor).\n",
        "\n",
        "   __str__ → runs when we convert an object to a string (like with print()).\n",
        "\n",
        "6. Explain the concept of inheritance in OOP ?\n",
        "\n",
        "-   Inheritance in Object-Oriented Programming (OOP) means one class can take (inherit) properties and behaviors from another class.Parent class (also called Base or Super class) → gives its stuff.Child class (also called Derived or Sub class) → gets the stuff and can also add its own.\n",
        "\n",
        "7. What is polymorphism in OOP ?\n",
        "\n",
        "-  Polymorphism in OOP means \"many forms\".In simple words:same action behaves differently depending on the object performing it.Different classes can have methods with the same name, but they act differently.\n",
        "This makes your code more flexible and easier to extend.\n",
        "\n",
        "\n",
        "8. How is encapsulation achieved in Python ?\n",
        "\n",
        "-   Encapsulation in Python means hiding the internal state of an object and only allowing access through methods.This protects the data and controls how it's modified. In Python, encapsulation is achieved by:Making attributes private (or protected) and by using getter and setter methods to access or update them.\n",
        "\n",
        "\n",
        "\n",
        "9. What is a constructor in Python ?\n",
        "\n",
        "-  A constructor in Python is a special method that runs automatically when you create a new object. Its job is to initialize (set up) the object's attributes.In Python, the constructor is the __init__ method.\n",
        "(init stands for initialize).\n",
        "\n",
        "\n",
        "10. What are class and static methods in Python ?\n",
        "\n",
        "-   **Class Methods (@classmethod)**:\n",
        "\n",
        "    First argument is cls (refers to the class, not an object).\n",
        "\n",
        "   Can change class variables.\n",
        "\n",
        "   Declared using @classmethod decorator.\n",
        "\n",
        "   Use case : Factory methods, modifying class state\n",
        "\n",
        "-    **Static Methods (@staticmethod)**:\n",
        "    \n",
        "    No self, no cls — doesn't care about object or class.\n",
        "\n",
        "    Like a normal function living inside a class (for better organization).\n",
        "\n",
        "    Declared using @staticmethod decorator.\n",
        "    \n",
        "    Use case : Utility functions that belong to the class logically\n",
        "\n",
        "\n",
        "11. What is method overloading in Python ?\n",
        "\n",
        "-   Method overloading is the ability to define multiple methods with the same name but different parameters (different number or types of arguments).However, Python does not support traditional method overloading like other languages (such as Java or C++).In Python, if we define multiple methods with the same name, only the last one is kept, and earlier definitions are overwritten.\n",
        "Instead, method overloading in Python is simulated by:\n",
        "\n",
        "   Using default arguments.\n",
        "\n",
        "   Using *args (variable number of arguments).\n",
        "\n",
        "   Using **kwargs (variable number of keyword arguments).\n",
        "\n",
        "   This allows a single method to accept different numbers or types of inputs.\n",
        "\n",
        "\n",
        "12.  What is method overriding in OOP ?\n",
        "\n",
        "-    Method overriding is a feature in object-oriented programming where a subclass (child class) provides a specific implementation of a method that is already defined in its superclass (parent class).The overriding method must have the same name, same return type, and same parameters as the method in the parent class.When the method is called using a child class object, the child’s version of the method is executed, allowing the subclass to provide customized behavior.\n",
        "\n",
        "\n",
        "13. What is a property decorator in Python ?\n",
        "\n",
        "-   The @property decorator in Python is used to define a method as a property, allowing it to be accessed like an attribute while still providing the functionality of a method.It is commonly used to control access to instance variables and to implement getter methods without changing the external interface of the class.\n",
        "\n",
        "\n",
        "14. Why is polymorphism important in OOP ?\n",
        "\n",
        "-   **Key Reasons Why Polymorphism is Important**:\n",
        "-  Code Reusability\t: Same code works for different types of objects.\n",
        "-  Extensibility\t: Easy to add new classes without changing existing code.\n",
        "- Flexibility\tObjects : can behave differently depending on their actual class.\n",
        "-  Maintainability :\tMakes code cleaner and easier to update or scale.\n",
        "-  Dynamic Behavior :\tEnables runtime decision making (runtime polymorphism).\n",
        "\n",
        "\n",
        "15.  What is an abstract class in Python ?\n",
        "\n",
        "-   An abstract class in Python is a class that cannot be instantiated directly and is designed to be inherited by other classes.It can contain abstract methods (methods without any implementation) that must be implemented by any subclass.Abstract classes are used to define a common interface for a group of related classes.In Python, abstract classes are created using the abc (Abstract Base Class) module and the @abstractmethod decorator.\n",
        "\n",
        "\n",
        "16. What are the advantages of OOP ?\n",
        "\n",
        "-   **ADVANTAGES OF OOP** :\n",
        "\n",
        "-  Modularity\t : Code is organized into separate classes, making it easier to manage, understand, and debug.\n",
        "-  Reusability :\tOnce a class is written, it can be reused in different programs without rewriting code (through inheritance).\n",
        "-  Extensibility :\tExisting code can be extended easily with new functionality without modifying existing code.\n",
        "-  Maintainability :\tOOP makes it easier to update and maintain code because objects can be modified independently.\n",
        "-  Data Hiding :\tThrough encapsulation, data is protected from unauthorized access, increasing security.\n",
        "-  Polymorphism :\tOne interface can represent multiple data types, making code more flexible and dynamic.\n",
        "-  Abstraction :\tFocuses only on essential features while hiding unnecessary details, making programs simpler to design.\n",
        "-  Real-World Modeling :\tOOP allows developers to model real-world entities like Car, Employee, BankAccount as objects.\n",
        "\n",
        "\n",
        "17. What is the difference between a class variable and an instance variable ?\n",
        "\n",
        "-   **Class Variable** : A class variable is a variable that is shared by all instances of a class.\n",
        "It is defined inside the class but outside any instance methods and is accessed using the class name or an instance.\n",
        "Changes to a class variable affect all instances of the class.\n",
        "- **Instance Variables** :  An instance variable is a variable that is unique to each instance of a class.\n",
        "It is usually defined inside the constructor (__init__ method) using self, and holds data specific to that object.\n",
        "Changes to an instance variable only affect that particular object.\n",
        "\n",
        "\n",
        "18. What is multiple inheritance in Python ?\n",
        "\n",
        "-   Multiple inheritance is a feature in Python where a class can inherit from more than one parent class.This allows a child class to access attributes and methods from multiple classes, combining their functionalities into a single class.\n",
        "\n",
        "\n",
        "19. Explain the purpose of ‘’__str__’ and ‘__repr__’ ‘ methods in Python.\n",
        "\n",
        "-   __str__ method in Python : The __str__ method is used to define the human-readable or informal string representation of an object.It is called by the built-in str() function and when you use print() on the object.\n",
        "-  __repr__ method in Python : The __repr__ method is used to define the official string representation of an object.It is called by the built-in repr() function and when you inspect the object directly in an interactive session.\n",
        "\n",
        "20. What is the significance of the ‘super()’ function in Python ?\n",
        "\n",
        "-   The super() function is used to call methods from a parent class in a child class.It allows a child class to access and reuse the parent class’s methods or constructors without explicitly naming the parent.\n",
        "\n",
        "-   Purpose of super():\n",
        "\n",
        "   To avoid hardcoding the parent class name.\n",
        "   \n",
        "   To simplify multiple inheritance and follow Method Resolution Order (MRO).\n",
        "\n",
        "   To reuse code from a parent class and extend its functionality.\n",
        "\n",
        "\n",
        "21. What is the significance of the __del__ method in Python ?\n",
        "\n",
        "-   The __del__ method is a special method known as a destructor.It is called automatically when an object is about to be destroyed (i.e., when it is no longer in use or explicitly deleted).\n",
        "\n",
        "-  Purpose:\n",
        "\n",
        "   To perform cleanup actions like closing files, releasing resources, or disconnecting from a network when an object is deleted.\n",
        "\n",
        "   It helps manage resource deallocation automatically.\n",
        "\n",
        "\n",
        "22. What is the difference between @staticmethod and @classmethod in Python ?\n",
        "\n",
        "-  **@staticmethod in Python** : A @staticmethod is a method that belongs to a class, but does not take self or cls as the first parameter.\n",
        "It behaves like a regular function, but is contained inside a class for logical grouping.\n",
        "\n",
        "-  Purpose:\n",
        "\n",
        "- To define a method that does not depend on class or instance variables.\n",
        "\n",
        "-  It can be called using either the class name or an instance.\n",
        "\n",
        " **@classmethod in Python** : A @classmethod is a method that belongs to the class, and takes cls as the first parameter instead of self.\n",
        "It can access and modify class variables that are shared across all instances.\n",
        "\n",
        "-  Purpose:\n",
        "\n",
        "-  To work with the class itself rather than specific objects.\n",
        "\n",
        "-  It is often used for factory methods (methods that create instances in different ways).\n",
        "\n",
        "\n",
        "23. How does polymorphism work in Python with inheritance ?\n",
        "\n",
        "-  Polymorphism in Python with inheritance means that different classes can have methods with the same name, and a common interface can be used to call these methods, even though the behavior may be different.\n",
        "\n",
        "-  Purpose:\n",
        "\n",
        "-  It allows objects of different classes to be treated as objects of a common parent class.\n",
        "\n",
        "-  It enables method overriding where a child class provides a specific implementation of a method already defined in the parent class.\n",
        "\n",
        "\n",
        "24. What is method chaining in Python OOP ?\n",
        "\n",
        "-   Method chaining is a technique in Python where multiple methods are called sequentially on the same object in a single line, by having each method return the object itself (self).\n",
        "\n",
        "-  Purpose:\n",
        "\n",
        "-  To make the code more readable and compact.\n",
        "\n",
        "-  To perform multiple operations on the same object smoothly.\n",
        "\n",
        "\n",
        "25. What is the purpose of the __call__ method in Python ?\n",
        "\n",
        "-   The __call__ method in Python allows an instance of a class to be called like a function.\n",
        "When you define __call__ inside a class, you can use the object itself as if it were a regular function.\n",
        "\n",
        "-  Purpose:\n",
        "\n",
        "-  To make an object behave like a function.\n",
        "\n",
        "-  To add functionality directly to an instance without explicitly calling a method.\n",
        "\n",
        "\n",
        "\n",
        "\n",
        "\n",
        "\n",
        "\n",
        "\n",
        "\n",
        "\n",
        "\n",
        "\n",
        "\n",
        "\n",
        "\n",
        "\n",
        "\n"
      ],
      "metadata": {
        "id": "wS2bBwyp6Vc3"
      }
    },
    {
      "cell_type": "markdown",
      "source": [
        "# PRACTICAL QUESTIONS"
      ],
      "metadata": {
        "id": "YvuspxBUWQY6"
      }
    },
    {
      "cell_type": "markdown",
      "source": [
        "1. Create a parent class Animal with a method speak() that prints a generic message. Create a child class Dog\n",
        "that overrides the speak() method to print \"Bark!\"."
      ],
      "metadata": {
        "id": "Y9YEaxwCWXM7"
      }
    },
    {
      "cell_type": "code",
      "source": [
        "class Animal:\n",
        "    def speak(self):\n",
        "        print(\"The animal makes a sound\")\n",
        "class Dog(Animal):\n",
        "    def speak(self):\n",
        "        print(\"Bark!\")\n",
        "animal=Animal()\n",
        "animal.speak()\n",
        "dog=Dog()\n",
        "dog.speak()\n"
      ],
      "metadata": {
        "colab": {
          "base_uri": "https://localhost:8080/"
        },
        "id": "5frZ16GfekdA",
        "outputId": "9ea3ab0f-209c-4073-8cbc-1f9e5422d112"
      },
      "execution_count": null,
      "outputs": [
        {
          "output_type": "stream",
          "name": "stdout",
          "text": [
            "The animal makes a sound\n",
            "Bark!\n"
          ]
        }
      ]
    },
    {
      "cell_type": "markdown",
      "source": [
        "2.  Write a program to create an abstract class Shape with a method area(). Derive classes Circle and Rectangle\n",
        "from it and implement the area() method in both."
      ],
      "metadata": {
        "id": "o3niDD4vhCdV"
      }
    },
    {
      "cell_type": "code",
      "source": [
        "from abc import ABC,abstractmethod\n",
        "class Shape(ABC):\n",
        "    @abstractmethod\n",
        "    def area(self):\n",
        "        pass\n",
        "class Circle(Shape):\n",
        "    def __init__(self,radius):\n",
        "        self.radius=radius\n",
        "    def area(self):\n",
        "        return 3.14*self.radius*self.radius\n",
        "class Rectangle(Shape):\n",
        "    def __init__(self,length,width):\n",
        "        self.length=length\n",
        "        self.width=width\n",
        "    def area(self):\n",
        "        return self.length*self.width\n",
        "circle=Circle(5)\n",
        "print(circle.area())\n",
        "rectangle=Rectangle(4,6)\n",
        "print(rectangle.area())\n"
      ],
      "metadata": {
        "colab": {
          "base_uri": "https://localhost:8080/"
        },
        "id": "tUYzupLihKIL",
        "outputId": "621b84d8-90a8-471d-a6a8-fc6b6b92528d"
      },
      "execution_count": null,
      "outputs": [
        {
          "output_type": "stream",
          "name": "stdout",
          "text": [
            "78.5\n",
            "24\n"
          ]
        }
      ]
    },
    {
      "cell_type": "markdown",
      "source": [
        "3. Implement a multi-level inheritance scenario where a class Vehicle has an attribute type. Derive a class Car\n",
        "and further derive a class ElectricCar that adds a battery attribute."
      ],
      "metadata": {
        "id": "FBO-hnrZkufV"
      }
    },
    {
      "cell_type": "code",
      "execution_count": null,
      "metadata": {
        "id": "DIOnurEQw01C",
        "colab": {
          "base_uri": "https://localhost:8080/"
        },
        "outputId": "816ea592-c904-4be3-9b1a-da55339990e9"
      },
      "outputs": [
        {
          "output_type": "stream",
          "name": "stdout",
          "text": [
            "Vehicle\n",
            "Generic Car\n",
            "100 kWh\n"
          ]
        }
      ],
      "source": [
        "class Vehicle:\n",
        "    def __init__(self):\n",
        "        self.type=\"Vehicle\"\n",
        "class Car(Vehicle):\n",
        "    def __init__(self):\n",
        "        super().__init__()\n",
        "        self.brand=\"Generic Car\"\n",
        "class ElectricCar(Car):\n",
        "    def __init__(self):\n",
        "        super().__init__()\n",
        "        self.battery=\"100 kWh\"\n",
        "e_car=ElectricCar()\n",
        "print(e_car.type)\n",
        "print(e_car.brand)\n",
        "print(e_car.battery)"
      ]
    },
    {
      "cell_type": "markdown",
      "source": [
        "4. Demonstrate polymorphism by creating a base class Bird with a method fly(). Create two derived classes\n",
        "Sparrow and Penguin that override the fly() method.\n"
      ],
      "metadata": {
        "id": "0Szk0CiKp8BU"
      }
    },
    {
      "cell_type": "code",
      "source": [
        "class Bird:\n",
        "    def fly(self):\n",
        "        print(\"Birds can fly\")\n",
        "class Sparrow(Bird):\n",
        "    def fly(self):\n",
        "        print(\"Sparrows can fly\")\n",
        "class Penguin(Bird):\n",
        "    def fly (self):\n",
        "        print(\"Penguins can't fly\")\n",
        "sparrow=Sparrow()\n",
        "sparrow.fly()\n",
        "penguin=Penguin()\n",
        "penguin.fly()"
      ],
      "metadata": {
        "colab": {
          "base_uri": "https://localhost:8080/"
        },
        "id": "SQyEzE_GpiHc",
        "outputId": "e81e9921-a06e-4c62-af0b-7436f1a32f77"
      },
      "execution_count": null,
      "outputs": [
        {
          "output_type": "stream",
          "name": "stdout",
          "text": [
            "Sparrows can fly\n",
            "Penguins can't fly\n"
          ]
        }
      ]
    },
    {
      "cell_type": "markdown",
      "source": [
        "5.  Write a program to demonstrate encapsulation by creating a class BankAccount with private attributes\n",
        "balance and methods to deposit, withdraw, and check balance."
      ],
      "metadata": {
        "id": "oEG8ECyrsE9P"
      }
    },
    {
      "cell_type": "code",
      "source": [
        "class BankAccount:\n",
        "    def __init__(self):\n",
        "        self.__balance=0\n",
        "    def deposit(self,amount):\n",
        "        self.__balance+=amount\n",
        "    def withdraw(self,amount):\n",
        "        if amount <= self.__balance:\n",
        "          self.__balance-=amount\n",
        "        else:\n",
        "          print(\"Insufficient balance\")\n",
        "    def check_balance(self):\n",
        "        print(\"Balance\",self.__balance)\n",
        "account=BankAccount()\n",
        "account.deposit(1000)\n",
        "account.check_balance()\n",
        "account.withdraw(500)\n",
        "account.check_balance()\n",
        "account.withdraw(1500)\n"
      ],
      "metadata": {
        "id": "vQKKLNybsB_6",
        "colab": {
          "base_uri": "https://localhost:8080/"
        },
        "outputId": "1e3f2894-845c-4549-d87a-8f69fa9dd106"
      },
      "execution_count": null,
      "outputs": [
        {
          "output_type": "stream",
          "name": "stdout",
          "text": [
            "Balance 1000\n",
            "Balance 500\n",
            "Insufficient balance\n"
          ]
        }
      ]
    },
    {
      "cell_type": "markdown",
      "source": [
        "6. Demonstrate runtime polymorphism using a method play() in a base class Instrument. Derive classes Guitar\n",
        "and Piano that implement their own version of play()."
      ],
      "metadata": {
        "id": "hEWRFecL0u6I"
      }
    },
    {
      "cell_type": "code",
      "source": [
        "class Instrument:\n",
        "    def play(self):\n",
        "       print(\"Instrument is playing...\")\n",
        "class Guitar(Instrument):\n",
        "    def play(self):\n",
        "       print(\"Guitar is playing a melody\")\n",
        "class Piano(Instrument):\n",
        "    def play(self):\n",
        "       print(\"Piano is playing a tone\")\n",
        "def start_playing(instrument):\n",
        "    instrument.play()\n",
        "guitar=Guitar()\n",
        "piano=Piano()\n",
        "start_playing(guitar)\n",
        "start_playing(piano)"
      ],
      "metadata": {
        "colab": {
          "base_uri": "https://localhost:8080/"
        },
        "id": "it7fOxxxwCNr",
        "outputId": "1bb1446d-c3b2-43e3-cf63-de04be46d400"
      },
      "execution_count": null,
      "outputs": [
        {
          "output_type": "stream",
          "name": "stdout",
          "text": [
            "Guitar is playing a melody\n",
            "Piano is playing a tone\n"
          ]
        }
      ]
    },
    {
      "cell_type": "markdown",
      "source": [
        "7.  Create a class MathOperations with a class method add_numbers() to add two numbers and a static\n",
        "method subtract_numbers() to subtract two numbers."
      ],
      "metadata": {
        "id": "xo63LGKlOYcU"
      }
    },
    {
      "cell_type": "code",
      "source": [
        "class MathOperations:\n",
        "    @classmethod\n",
        "    def add_numbers(cls,a,b):\n",
        "       return a+b\n",
        "    @staticmethod\n",
        "    def subtract_numbers(a,b):\n",
        "       return a-b\n",
        "print(MathOperations.add_numbers(5,3))\n",
        "print(MathOperations.subtract_numbers(10,4))\n"
      ],
      "metadata": {
        "colab": {
          "base_uri": "https://localhost:8080/"
        },
        "id": "t2XQ2bjmLdtu",
        "outputId": "67ef7b0f-cf61-4afa-f2df-013d1fc7df58"
      },
      "execution_count": null,
      "outputs": [
        {
          "output_type": "stream",
          "name": "stdout",
          "text": [
            "8\n",
            "6\n"
          ]
        }
      ]
    },
    {
      "cell_type": "markdown",
      "source": [
        "8. Implement a class Person with a class method to count the total number of persons created."
      ],
      "metadata": {
        "id": "xvPCL5iyXntl"
      }
    },
    {
      "cell_type": "code",
      "source": [
        "class Person:\n",
        "   count=0\n",
        "   def __init__(self):\n",
        "     Person.count+=1\n",
        "   @classmethod\n",
        "   def total_persons(cls):\n",
        "       print(cls.count)\n",
        "p1=Person()\n",
        "p2=Person()\n",
        "Person.total_persons()\n"
      ],
      "metadata": {
        "colab": {
          "base_uri": "https://localhost:8080/"
        },
        "id": "AVdFi0AkWNS4",
        "outputId": "85775fda-8732-4e82-973a-9a88885bb57b"
      },
      "execution_count": null,
      "outputs": [
        {
          "output_type": "stream",
          "name": "stdout",
          "text": [
            "2\n"
          ]
        }
      ]
    },
    {
      "cell_type": "markdown",
      "source": [
        "9.  Write a class Fraction with attributes numerator and denominator. Override the str method to display the\n",
        "fraction as \"numerator/denominator\"."
      ],
      "metadata": {
        "id": "OaUFAqYksX02"
      }
    },
    {
      "cell_type": "code",
      "source": [
        "class Fraction:\n",
        "    def __init__(self,numerator,denominator):\n",
        "        self.numerator=numerator\n",
        "        self.denominator=denominator\n",
        "f1=Fraction(3,4)\n",
        "print(f1.numerator,\"/\",f1.denominator)"
      ],
      "metadata": {
        "colab": {
          "base_uri": "https://localhost:8080/"
        },
        "id": "_sVHJ6wXsWlq",
        "outputId": "6edb99dc-b996-4262-f124-2d99c7fe4ded"
      },
      "execution_count": null,
      "outputs": [
        {
          "output_type": "stream",
          "name": "stdout",
          "text": [
            "3 / 4\n"
          ]
        }
      ]
    },
    {
      "cell_type": "markdown",
      "source": [
        "10.  Demonstrate operator overloading by creating a class Vector and overriding the add method to add two\n",
        "vectors."
      ],
      "metadata": {
        "id": "N355vLoDwa9y"
      }
    },
    {
      "cell_type": "code",
      "source": [
        "class Vector:\n",
        "    def __init__(self,x,y):\n",
        "       self.x=x\n",
        "       self.y=y\n",
        "    def __add__(self,other):\n",
        "       return Vector(self.x+other.x,self.y+other.y)\n",
        "v1=Vector(2,3)\n",
        "v2=Vector(4,5)\n",
        "v3=v1+v2\n",
        "print(v3.x,v3.y)"
      ],
      "metadata": {
        "id": "KqfU-wLhwBYu",
        "colab": {
          "base_uri": "https://localhost:8080/"
        },
        "outputId": "c4f0fd4f-518e-4a83-c541-9068bdc0fc90"
      },
      "execution_count": null,
      "outputs": [
        {
          "output_type": "stream",
          "name": "stdout",
          "text": [
            "6 8\n"
          ]
        }
      ]
    },
    {
      "cell_type": "markdown",
      "source": [
        "11.  Create a class Person with attributes name and age. Add a method greet() that prints \"Hello, my name is\n",
        "{name} and I am {age} years old.\""
      ],
      "metadata": {
        "id": "1UVz6RTqCanq"
      }
    },
    {
      "cell_type": "code",
      "source": [
        "class Person:\n",
        "    def __init__(self,name,age):\n",
        "        self.name=name\n",
        "        self.age=age\n",
        "    def greet(self):\n",
        "        print(f\"Hello, my name is {self.name} and I am {self.age} years old.\")\n",
        "p1=Person(\"Pragati\",29)\n",
        "p1.greet()"
      ],
      "metadata": {
        "colab": {
          "base_uri": "https://localhost:8080/"
        },
        "id": "mWUWJKYYCI_0",
        "outputId": "09711e8b-bcf5-4ee7-ce74-93da44dad3b5"
      },
      "execution_count": null,
      "outputs": [
        {
          "output_type": "stream",
          "name": "stdout",
          "text": [
            "Hello, my name is Pragati and I am 29 years old.\n"
          ]
        }
      ]
    },
    {
      "cell_type": "markdown",
      "source": [
        "12.  Implement a class Student with attributes name and grades. Create a method average_grade() to compute\n",
        "the average of the grades."
      ],
      "metadata": {
        "id": "oHmx0S96Exl7"
      }
    },
    {
      "cell_type": "code",
      "source": [
        "class Student:\n",
        "    def __init__(self,name,grades):\n",
        "        self.name=name\n",
        "        self.grades=grades\n",
        "    def average_grades(self):\n",
        "        return sum(self.grades)/len(self.grades)\n",
        "s1=Student(\"Pragati\",[90,92,95,91])\n",
        "print(s1.average_grades())"
      ],
      "metadata": {
        "colab": {
          "base_uri": "https://localhost:8080/"
        },
        "id": "YnYLfrZqDj4S",
        "outputId": "1542f1ef-a3fb-4dfc-d3d1-75d1a48e4c89"
      },
      "execution_count": null,
      "outputs": [
        {
          "output_type": "stream",
          "name": "stdout",
          "text": [
            "92.0\n"
          ]
        }
      ]
    },
    {
      "cell_type": "markdown",
      "source": [
        "13.  Create a class Rectangle with methods set_dimensions() to set the dimensions and area() to calculate the\n",
        "area.\n",
        "\n",
        "\n"
      ],
      "metadata": {
        "id": "1JqIsmKhHg3S"
      }
    },
    {
      "cell_type": "code",
      "source": [
        "class Rectangle:\n",
        "   def __init__(self,length,width):\n",
        "       self.length=length\n",
        "       self.width=width\n",
        "   def set_dimensions(self,length,width):\n",
        "       self.length=length\n",
        "       self.width=width\n",
        "   def area(self):\n",
        "       return self.length*self.width\n",
        "r1=Rectangle(4,5)\n",
        "print(r1.area())\n",
        "r1.set_dimensions(6,7)\n",
        "print(r1.area())\n"
      ],
      "metadata": {
        "colab": {
          "base_uri": "https://localhost:8080/"
        },
        "id": "eeozsnd0HTEo",
        "outputId": "e8a8fba8-026d-4c89-8cb0-0457a62ed9bd"
      },
      "execution_count": null,
      "outputs": [
        {
          "output_type": "stream",
          "name": "stdout",
          "text": [
            "20\n",
            "42\n"
          ]
        }
      ]
    },
    {
      "cell_type": "markdown",
      "source": [
        "14.  Create a class Employee with a method calculate_salary() that computes the salary based on hours worked\n",
        "and hourly rate. Create a derived class Manager that adds a bonus to the salary."
      ],
      "metadata": {
        "id": "SQ_UaTuWPomk"
      }
    },
    {
      "cell_type": "code",
      "source": [
        "class Employee:\n",
        "    def __init__(self,hours_worked,hourly_rate):\n",
        "        self.hours_worked=hours_worked\n",
        "        self.hourly_rate=hourly_rate\n",
        "    def calculate_salary(self):\n",
        "        salary=self.hours_worked*self.hourly_rate\n",
        "        return salary\n",
        "class Manager(Employee):\n",
        "    def __init__(self,hours_worked,hourly_rate,bonus):\n",
        "        super().__init__(hours_worked,hourly_rate)\n",
        "        self.bonus=bonus\n",
        "    def calculate_salary(self):\n",
        "        return super().calculate_salary()+self.bonus\n",
        "e1=Employee(40,50)\n",
        "print(e1.calculate_salary())\n",
        "m1=Manager(40,50,100)\n",
        "print(m1.calculate_salary())\n"
      ],
      "metadata": {
        "colab": {
          "base_uri": "https://localhost:8080/"
        },
        "id": "5wEOt5ErOgOf",
        "outputId": "2d8ec16b-2d6e-422a-af30-b2ecd4d09cc7"
      },
      "execution_count": null,
      "outputs": [
        {
          "output_type": "stream",
          "name": "stdout",
          "text": [
            "2000\n",
            "2100\n"
          ]
        }
      ]
    },
    {
      "cell_type": "markdown",
      "source": [
        "15. Create a class Product with attributes name, price, and quantity. Implement a method total_price() that\n",
        "calculates the total price of the product."
      ],
      "metadata": {
        "id": "tjnc1zpNbRuR"
      }
    },
    {
      "cell_type": "code",
      "source": [
        "class Product:\n",
        "    def __init__(self,name,price,quantity):\n",
        "        self.name=name\n",
        "        self.price=price\n",
        "        self.quantity=quantity\n",
        "    def total_price(self):\n",
        "       return self.price*self.quantity\n",
        "p1=Product(\"Laptop\",100000,2)\n",
        "print(p1.total_price())"
      ],
      "metadata": {
        "colab": {
          "base_uri": "https://localhost:8080/"
        },
        "id": "KFC-thnYZBuY",
        "outputId": "59eeb67a-77d3-4793-c127-45e23de81e7a"
      },
      "execution_count": null,
      "outputs": [
        {
          "output_type": "stream",
          "name": "stdout",
          "text": [
            "200000\n"
          ]
        }
      ]
    },
    {
      "cell_type": "markdown",
      "source": [
        "16. Create a class Animal with an abstract method sound(). Create two derived classes Cow and Sheep that\n",
        "implement the sound() method."
      ],
      "metadata": {
        "id": "OQJ0b4NPcngH"
      }
    },
    {
      "cell_type": "code",
      "source": [
        "from abc import ABC, abstractmethod\n",
        "class Animal(ABC):\n",
        "   @abstractmethod\n",
        "   def sound(self):\n",
        "      pass\n",
        "class Cow(Animal):\n",
        "   def sound(self):\n",
        "      return(\"moo\")\n",
        "class Sheep(Animal):\n",
        "   def sound(self):\n",
        "      return(\"Baa\")\n",
        "cow=Cow()\n",
        "sheep=Sheep()\n",
        "print(cow.sound())\n",
        "print(sheep.sound())\n"
      ],
      "metadata": {
        "id": "rhDaXsmxccd-",
        "colab": {
          "base_uri": "https://localhost:8080/"
        },
        "outputId": "1f50c07c-8705-48c9-95cc-efc9bce6bcee"
      },
      "execution_count": 5,
      "outputs": [
        {
          "output_type": "stream",
          "name": "stdout",
          "text": [
            "moo\n",
            "Baa\n"
          ]
        }
      ]
    },
    {
      "cell_type": "markdown",
      "source": [
        "17. Create a class Book with attributes title, author, and year_published. Add a method get_book_info() that\n",
        "returns a formatted string with the book's details."
      ],
      "metadata": {
        "id": "yOPKH6mhbDUE"
      }
    },
    {
      "cell_type": "code",
      "source": [
        "class Book:\n",
        "    def __init__(self,title,author,year_published):\n",
        "        self.title=title\n",
        "        self.author=author\n",
        "        self.year_published=year_published\n",
        "    def get_book_info(self):\n",
        "        return f\"{self.title} by {self.author} published in {self.year_published}\"\n",
        "b1=Book(\"The Alchemist\",\"Paulo Coelho\",1988)\n",
        "print(b1.get_book_info())"
      ],
      "metadata": {
        "colab": {
          "base_uri": "https://localhost:8080/"
        },
        "id": "Ly_UQJFNbMLp",
        "outputId": "6da7919b-bb19-48a2-acc8-c568e582a9ad"
      },
      "execution_count": 1,
      "outputs": [
        {
          "output_type": "stream",
          "name": "stdout",
          "text": [
            "The Alchemist by Paulo Coelho published in 1988\n"
          ]
        }
      ]
    },
    {
      "cell_type": "markdown",
      "source": [
        "18.  Create a class House with attributes address and price. Create a derived class Mansion that adds an\n",
        "attribute number_of_rooms."
      ],
      "metadata": {
        "id": "xoVHtEWsgXK-"
      }
    },
    {
      "cell_type": "code",
      "source": [
        "class House:\n",
        "    def __init__(self,address,price):\n",
        "        self.address=address\n",
        "        self.price=price\n",
        "class Mansion(House):\n",
        "    def __init__(self,address,price,number_of_rooms):\n",
        "        super().__init__(address,price)\n",
        "        self.number_of_rooms=number_of_rooms\n",
        "m1=Mansion(\"123 Main St\",20000000,5)\n",
        "print(m1.address)\n",
        "print(m1.price)\n",
        "print(m1.number_of_rooms)"
      ],
      "metadata": {
        "colab": {
          "base_uri": "https://localhost:8080/"
        },
        "id": "3uKpTGyHZ2BX",
        "outputId": "08adb248-9d2d-476b-9bc7-71c20fdf3226"
      },
      "execution_count": 5,
      "outputs": [
        {
          "output_type": "stream",
          "name": "stdout",
          "text": [
            "123 Main St\n",
            "20000000\n",
            "5\n"
          ]
        }
      ]
    },
    {
      "cell_type": "code",
      "source": [],
      "metadata": {
        "id": "QCz15T3XiTKI"
      },
      "execution_count": null,
      "outputs": []
    }
  ]
}